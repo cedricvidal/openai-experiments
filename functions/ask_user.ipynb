{
 "cells": [
  {
   "cell_type": "code",
   "execution_count": 9,
   "metadata": {},
   "outputs": [],
   "source": [
    "import openai\n",
    "import json\n",
    "\n",
    "#model = \"gpt-3.5-turbo-0613\"\n",
    "model = \"gpt-4-0613\"\n",
    "\n",
    "def ask_user(question):\n",
    "    return input(question)\n",
    "\n",
    "functions = [\n",
    "    {\n",
    "      \"name\": \"ask_user\",\n",
    "      \"description\": \"Asks the user for input\",\n",
    "      \"parameters\": {\n",
    "        \"type\": \"object\",\n",
    "        \"properties\": {\n",
    "          \"question\": {\n",
    "            \"type\": \"string\",\n",
    "            \"description\": \"The question to ask to the user\"\n",
    "          },\n",
    "        },\n",
    "        \"required\": [\"question\"]\n",
    "      }\n",
    "    },\n",
    "  ]\n",
    "\n",
    "available_functions = {\n",
    "    \"ask_user\": ask_user,\n",
    "}"
   ]
  },
  {
   "cell_type": "code",
   "execution_count": 10,
   "metadata": {},
   "outputs": [],
   "source": [
    "def run_conversation(content):\n",
    "  messages = [\n",
    "    {\"role\": \"user\", \"content\": content},\n",
    "    ]\n",
    "  # Step 1: send the conversation and available functions to GPT\n",
    "  response = openai.ChatCompletion.create(\n",
    "    model=model,\n",
    "    messages=messages,\n",
    "    functions=functions\n",
    "  )\n",
    "  response_message = response[\"choices\"][0][\"message\"]\n",
    "  messages.append(response_message)  # extend conversation with assistant's reply\n",
    "\n",
    "  # Step 2: check if GPT wanted to call a function\n",
    "  while response_message.get(\"function_call\"):\n",
    "    # Step 3: call the function\n",
    "    # Note: the JSON response may not always be valid; be sure to handle errors\n",
    "    function_name = response_message[\"function_call\"][\"name\"]\n",
    "    if function_name not in available_functions:\n",
    "      raise Exception(\"Function \" + function_name + \" not found\")\n",
    "    function_to_call = available_functions[function_name]\n",
    "    function_args = json.loads(response_message[\"function_call\"][\"arguments\"])\n",
    "    function_response = function_to_call(**function_args)\n",
    "\n",
    "    # Step 4: send the info on the function call and function response to GPT\n",
    "    messages.append(\n",
    "        {\n",
    "            \"role\": \"function\",\n",
    "            \"name\": function_name,\n",
    "            \"content\": function_response,\n",
    "        }\n",
    "    )  # extend conversation with function response\n",
    "    response = openai.ChatCompletion.create(\n",
    "        model=model,\n",
    "        messages=messages,\n",
    "    )  # get a new response from GPT where it can see the function response\n",
    "    response_message = response[\"choices\"][0][\"message\"]\n",
    "    messages.append(response_message)  # extend conversation with assistant's reply\n",
    "\n",
    "  for message in messages:\n",
    "    if message.get(\"content\"):\n",
    "      print(message[\"role\"] + \": \" + message[\"content\"])\n",
    "    if message.get(\"function_call\"):\n",
    "      print(\" -> calling function \" + message[\"function_call\"][\"name\"] + \" with arguments \" + json.dumps(message[\"function_call\"][\"arguments\"]))\n",
    "  "
   ]
  },
  {
   "cell_type": "code",
   "execution_count": 12,
   "metadata": {},
   "outputs": [
    {
     "name": "stdout",
     "output_type": "stream",
     "text": [
      "user: If my brother is 3 years younger than me, how old is my brother?\n",
      "    Ask user for any missing information.\n",
      "    Explain step by step.\n",
      " -> calling function ask_user with arguments \"{\\n  \\\"question\\\": \\\"How old are you?\\\"\\n}\"\n",
      "function: 35\n",
      "assistant: Since your brother is 3 years younger than you, and you are 35, we will subtract 3 from 35 to find out your brother's age.\n",
      "\n",
      "Step by step explanation:\n",
      "1. The age difference between you and your brother is 3 years.\n",
      "2. Your current age is 35 years.\n",
      "3. To find out your brother's age, we need to subtract the age difference from your age.\n",
      "4. In other words, your brother's age would be 35 years - 3 years = 32 years.\n",
      "\n",
      "So, your brother is 32 years old.\n"
     ]
    }
   ],
   "source": [
    "run_conversation(\"\"\"If my brother is 3 years younger than me, how old is my brother?\n",
    "    Ask user for any missing information.\n",
    "    Explain step by step.\"\"\")"
   ]
  },
  {
   "cell_type": "code",
   "execution_count": null,
   "metadata": {},
   "outputs": [],
   "source": []
  }
 ],
 "metadata": {
  "kernelspec": {
   "display_name": "python-3.9.12",
   "language": "python",
   "name": "python3"
  },
  "language_info": {
   "codemirror_mode": {
    "name": "ipython",
    "version": 3
   },
   "file_extension": ".py",
   "mimetype": "text/x-python",
   "name": "python",
   "nbconvert_exporter": "python",
   "pygments_lexer": "ipython3",
   "version": "3.9.12"
  },
  "orig_nbformat": 4
 },
 "nbformat": 4,
 "nbformat_minor": 2
}
