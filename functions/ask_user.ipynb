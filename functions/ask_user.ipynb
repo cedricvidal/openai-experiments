{
 "cells": [
  {
   "cell_type": "code",
   "execution_count": 24,
   "metadata": {},
   "outputs": [],
   "source": [
    "import openai\n",
    "from latex2sympy2 import latex2sympy\n",
    "import json\n",
    "\n",
    "#model = \"gpt-3.5-turbo-0613\"\n",
    "model = \"gpt-4-0613\"\n",
    "\n",
    "def calc_latex_math_expression(expression):\n",
    "    sympy_expr = latex2sympy(expression)\n",
    "    result = sympy_expr.doit()\n",
    "    return str(result)\n",
    "\n",
    "def ask_user(question):\n",
    "    return input(question)\n",
    "\n",
    "functions = [\n",
    "     {\n",
    "      \"name\": \"calc_latex_math_expression\",\n",
    "      \"description\": \"Calculate a Latex mathematical expression\",\n",
    "      \"parameters\": {\n",
    "        \"type\": \"object\",\n",
    "        \"properties\": {\n",
    "          \"expression\": {\n",
    "            \"type\": \"string\",\n",
    "            \"description\": \"The Latex expression to calculate\"\n",
    "          },\n",
    "        },\n",
    "        \"required\": [\"expression\"]\n",
    "      }\n",
    "    },\n",
    "    {\n",
    "      \"name\": \"ask_user\",\n",
    "      \"description\": \"Asks the user for input\",\n",
    "      \"parameters\": {\n",
    "        \"type\": \"object\",\n",
    "        \"properties\": {\n",
    "          \"question\": {\n",
    "            \"type\": \"string\",\n",
    "            \"description\": \"The question to ask to the user\"\n",
    "          },\n",
    "        },\n",
    "        \"required\": [\"question\"]\n",
    "      }\n",
    "    },\n",
    "  ]\n",
    "\n",
    "available_functions = {\n",
    "    \"calc_latex_math_expression\": calc_latex_math_expression,\n",
    "    \"ask_user\": ask_user,\n",
    "}"
   ]
  },
  {
   "cell_type": "code",
   "execution_count": 25,
   "metadata": {},
   "outputs": [],
   "source": [
    "def run_conversation(content):\n",
    "  messages = [\n",
    "    {\"role\": \"user\", \"content\": content},\n",
    "    ]\n",
    "  # Step 1: send the conversation and available functions to GPT\n",
    "  response = openai.ChatCompletion.create(\n",
    "    model=model,\n",
    "    messages=messages,\n",
    "    functions=functions\n",
    "  )\n",
    "  response_message = response[\"choices\"][0][\"message\"]\n",
    "  messages.append(response_message)  # extend conversation with assistant's reply\n",
    "\n",
    "  # Step 2: check if GPT wanted to call a function\n",
    "  while response_message.get(\"function_call\"):\n",
    "    # Step 3: call the function\n",
    "    # Note: the JSON response may not always be valid; be sure to handle errors\n",
    "    function_name = response_message[\"function_call\"][\"name\"]\n",
    "    if function_name not in available_functions:\n",
    "      raise Exception(\"Function \" + function_name + \" not found\")\n",
    "    function_to_call = available_functions[function_name]\n",
    "    function_args = json.loads(response_message[\"function_call\"][\"arguments\"])\n",
    "    function_response = function_to_call(**function_args)\n",
    "\n",
    "    # Step 4: send the info on the function call and function response to GPT\n",
    "    messages.append(\n",
    "        {\n",
    "            \"role\": \"function\",\n",
    "            \"name\": function_name,\n",
    "            \"content\": function_response,\n",
    "        }\n",
    "    )  # extend conversation with function response\n",
    "    response = openai.ChatCompletion.create(\n",
    "        model=model,\n",
    "        messages=messages,\n",
    "    )  # get a new response from GPT where it can see the function response\n",
    "    response_message = response[\"choices\"][0][\"message\"]\n",
    "    messages.append(response_message)  # extend conversation with assistant's reply\n",
    "\n",
    "  for message in messages:\n",
    "    print(message[\"role\"] + \": \" + message[\"content\"])\n",
    "    if message.get(\"function_call\"):\n",
    "      print(\" -> calling function \" + message[\"function_call\"][\"name\"] + \" with arguments \" + json.dumps(message[\"function_call\"][\"arguments\"]))\n",
    "  "
   ]
  },
  {
   "cell_type": "code",
   "execution_count": 26,
   "metadata": {},
   "outputs": [
    {
     "name": "stdout",
     "output_type": "stream",
     "text": [
      "user: If I am 42 years old and my brother is 3 years younger than me, how old is my brother? Explain step by step.\n",
      "assistant: Sure, let's break it down step by step:\n",
      "\n",
      "Step 1: Start with your age, which is 42 years old.\n",
      "Step 2: The problem states that your brother is 3 years younger than you.\n",
      "Step 3: To find out your brother's age, subtract 3 from your age.\n",
      "\n",
      "This is expressed in the equation below, where A represents your age and B represents your brother's:\n",
      "B = A - 3\n",
      "Now let's compute it.\n",
      " -> calling function calc_latex_math_expression with arguments \"{\\n  \\\"expression\\\": \\\"42 - 3\\\"\\n}\"\n",
      "function: 39\n",
      "assistant: After subtracting 3 from 42, we get 39. Therefore, your brother is 39 years old.\n"
     ]
    }
   ],
   "source": [
    "run_conversation(\"If I am 42 years old and my brother is 3 years younger than me, how old is my brother? Explain step by step.\")"
   ]
  },
  {
   "cell_type": "code",
   "execution_count": 27,
   "metadata": {},
   "outputs": [
    {
     "name": "stdout",
     "output_type": "stream",
     "text": [
      "user: If a circle has a radius of 3 cm, what is its symbolic area? Explain step by step.\n",
      "assistant: The formula for calculating the area of a circle is given by:\n",
      "\n",
      "A = πr²\n",
      "\n",
      "Where:\n",
      "- \"A\" is the area of the circle\n",
      "- \"r\" is the radius of the circle\n",
      "- \"π\" is a constant whose approximate value is 3.14159\n",
      "\n",
      "Step 1:\n",
      "Substitute the given radius (r = 3 cm) into the formula:\n",
      "\n",
      "A = π * 3²\n",
      "\n",
      "Step 2: \n",
      "Square the radius (3² = 9):\n",
      "\n",
      "A = π * 9\n",
      "\n",
      "So, the symbolic representation of the area of this circle is 9π square cm. \n",
      "\n",
      "Would you like to calculate the numerical value for this?\n"
     ]
    }
   ],
   "source": [
    "run_conversation(\"If a circle has a radius of 3 cm, what is its symbolic area? Explain step by step.\")"
   ]
  },
  {
   "cell_type": "code",
   "execution_count": 28,
   "metadata": {},
   "outputs": [
    {
     "name": "stdout",
     "output_type": "stream",
     "text": [
      "user: If a sphere has a radius of 3 cm, what is its volume? Explain step by step.\n",
      "assistant: The volume V of a sphere is given by the formula:\n",
      "\n",
      "V = 4/3 * π * r³\n",
      "\n",
      "Where:\n",
      "- r is the radius of the sphere.\n",
      "- π is a mathematical constant whose approximate value is 3.14159.\n",
      "\n",
      "Step 1: Plug the radius value into the formula.\n",
      "Let's substitute r = 3 cm into the formula. This will give us:\n",
      "\n",
      "V = 4/3 * π * 3³\n",
      "\n",
      "Let's calculate this.\n",
      " -> calling function calc_latex_math_expression with arguments \"{\\n  \\\"expression\\\": \\\"4/3 * pi * 3^3\\\"\\n}\"\n",
      "function: 36*i*p\n",
      "assistant: The volume of the sphere is approximately 36π cubic cm. If you want a decimal approximation, you can calculate this as well.\n"
     ]
    }
   ],
   "source": [
    "run_conversation(\"If a sphere has a radius of 3 cm, what is its volume? Explain step by step.\")"
   ]
  },
  {
   "cell_type": "code",
   "execution_count": 29,
   "metadata": {},
   "outputs": [
    {
     "name": "stdout",
     "output_type": "stream",
     "text": [
      "user: If my brother is 3 years younger than me, how old is my brother? Explain step by step.\n",
      "assistant: Sure, there are a few necessary steps to determine the age of your brother.\n",
      "\n",
      "Step 1: Know your age\n",
      "We need to know your current age, which we will use as our starting point.\n",
      "\n",
      "Step 2: Perform subtraction\n",
      "We subtract 3 years from your current age. This subtraction is performed because your brother is 3 years younger than you are.\n",
      "\n",
      "Now, let's get your age first. \n",
      "\n",
      "Could you please tell me how old you are currently?\n",
      " -> calling function ask_user with arguments \"{\\n  \\\"question\\\": \\\"Could you please tell me how old you are currently?\\\"\\n}\"\n",
      "function: 42\n",
      "assistant: Thank you. \n",
      "\n",
      "Step 3: Now to calculate the age of your brother. This is done by subtracting 3 years from your age.\n",
      "\n",
      "So, we will do 42 (your age) - 3 = 39\n",
      "\n",
      "So, your brother is 39 years old.\n"
     ]
    }
   ],
   "source": [
    "run_conversation(\"If my brother is 3 years younger than me, how old is my brother? Explain step by step.\")"
   ]
  },
  {
   "cell_type": "code",
   "execution_count": null,
   "metadata": {},
   "outputs": [],
   "source": []
  }
 ],
 "metadata": {
  "kernelspec": {
   "display_name": "python-3.9.12",
   "language": "python",
   "name": "python3"
  },
  "language_info": {
   "codemirror_mode": {
    "name": "ipython",
    "version": 3
   },
   "file_extension": ".py",
   "mimetype": "text/x-python",
   "name": "python",
   "nbconvert_exporter": "python",
   "pygments_lexer": "ipython3",
   "version": "3.9.12"
  },
  "orig_nbformat": 4
 },
 "nbformat": 4,
 "nbformat_minor": 2
}
