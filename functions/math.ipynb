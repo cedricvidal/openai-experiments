{
 "cells": [
  {
   "cell_type": "code",
   "execution_count": 1,
   "metadata": {},
   "outputs": [],
   "source": [
    "import openai\n",
    "from latex2sympy2 import latex2sympy\n",
    "\n",
    "#model = \"gpt-3.5-turbo-0613\"\n",
    "model = \"gpt-4-0613\"\n",
    "\n",
    "def calc_latex_math_expression(expression):\n",
    "    sympy_expr = latex2sympy(expression)\n",
    "    result = sympy_expr.doit()\n",
    "    return str(result)\n",
    "\n",
    "functions = [\n",
    "     {\n",
    "      \"name\": \"calc_latex_math_expression\",\n",
    "      \"description\": \"Calculate a Latex mathematical expression\",\n",
    "      \"parameters\": {\n",
    "        \"type\": \"object\",\n",
    "        \"properties\": {\n",
    "          \"expression\": {\n",
    "            \"type\": \"string\",\n",
    "            \"description\": \"The Latex expression to calculate\"\n",
    "          },\n",
    "        },\n",
    "        \"required\": [\"expression\"]\n",
    "      }\n",
    "    } \n",
    "  ]\n",
    "\n",
    "messages = [\n",
    "    {\"role\": \"user\", \"content\": \"If I am 42 years old and my brother is 3 years younger than me, how old is my brother? Explain step by step.\"},\n",
    "    ]"
   ]
  },
  {
   "cell_type": "code",
   "execution_count": 3,
   "metadata": {},
   "outputs": [
    {
     "data": {
      "text/plain": [
       "<OpenAIObject chat.completion id=chatcmpl-7UmNfKMRmZFywKFrqANwC2qn3EjrG at 0x128139bd0> JSON: {\n",
       "  \"id\": \"chatcmpl-7UmNfKMRmZFywKFrqANwC2qn3EjrG\",\n",
       "  \"object\": \"chat.completion\",\n",
       "  \"created\": 1687570171,\n",
       "  \"model\": \"gpt-4-0613\",\n",
       "  \"choices\": [\n",
       "    {\n",
       "      \"index\": 0,\n",
       "      \"message\": {\n",
       "        \"role\": \"assistant\",\n",
       "        \"content\": \"To find out how old your brother is, take your age and subtract your brother's age difference from it.\\n\\nStep 1: Start with your age, which is 42 years.\\nStep 2: Subtract your brother's age difference from your age. He is 3 years younger than you, so you subtract 3 from 42. \\n\\nNow let's calculate this:\",\n",
       "        \"function_call\": {\n",
       "          \"name\": \"calc_latex_math_expression\",\n",
       "          \"arguments\": \"{\\n  \\\"expression\\\": \\\"42 - 3\\\"\\n}\"\n",
       "        }\n",
       "      },\n",
       "      \"finish_reason\": \"function_call\"\n",
       "    }\n",
       "  ],\n",
       "  \"usage\": {\n",
       "    \"prompt_tokens\": 86,\n",
       "    \"completion_tokens\": 98,\n",
       "    \"total_tokens\": 184\n",
       "  }\n",
       "}"
      ]
     },
     "execution_count": 3,
     "metadata": {},
     "output_type": "execute_result"
    }
   ],
   "source": [
    "openai.ChatCompletion.create(\n",
    "  model=model,\n",
    "  messages=messages,\n",
    "  functions=functions\n",
    ")"
   ]
  },
  {
   "cell_type": "code",
   "execution_count": 3,
   "metadata": {},
   "outputs": [
    {
     "data": {
      "text/plain": [
       "'39'"
      ]
     },
     "execution_count": 3,
     "metadata": {},
     "output_type": "execute_result"
    }
   ],
   "source": [
    "calc_latex_math_expression(expression=\"42 - 3\")"
   ]
  },
  {
   "cell_type": "code",
   "execution_count": 4,
   "metadata": {},
   "outputs": [
    {
     "data": {
      "text/plain": [
       "<OpenAIObject chat.completion id=chatcmpl-7UmPro3cZRxqxvyqQ3oxAE1l38d2K at 0x1281d46d0> JSON: {\n",
       "  \"id\": \"chatcmpl-7UmPro3cZRxqxvyqQ3oxAE1l38d2K\",\n",
       "  \"object\": \"chat.completion\",\n",
       "  \"created\": 1687570307,\n",
       "  \"model\": \"gpt-4-0613\",\n",
       "  \"choices\": [\n",
       "    {\n",
       "      \"index\": 0,\n",
       "      \"message\": {\n",
       "        \"role\": \"assistant\",\n",
       "        \"content\": \"To figure out your brother's age, we need to subtract the difference in your ages from your current age. So since you are 42 years old, and your brother is three years younger than you, we would subtract 3 from 42.\\n\\nHere is the math: 42 - 3 = 39\\n\\nSo, your brother is 39 years old.\"\n",
       "      },\n",
       "      \"finish_reason\": \"stop\"\n",
       "    }\n",
       "  ],\n",
       "  \"usage\": {\n",
       "    \"prompt_tokens\": 117,\n",
       "    \"completion_tokens\": 75,\n",
       "    \"total_tokens\": 192\n",
       "  }\n",
       "}"
      ]
     },
     "execution_count": 4,
     "metadata": {},
     "output_type": "execute_result"
    }
   ],
   "source": [
    "messages.extend([\n",
    "        {\"role\": \"assistant\", \"content\": None, \"function_call\": {\"name\": \"calc_latex_math_expression\", \"arguments\": \"{ \\\"expression\\\": \\\"42 - 3\\\"}\" } },\n",
    "        {\"role\": \"function\", \"name\": \"calc_latex_math_expression\", \"content\": \"39\"}\n",
    "])\n",
    "\n",
    "openai.ChatCompletion.create(\n",
    "  model=model,\n",
    "  messages=messages,\n",
    "  functions=functions\n",
    ")"
   ]
  },
  {
   "cell_type": "code",
   "execution_count": null,
   "metadata": {},
   "outputs": [],
   "source": []
  }
 ],
 "metadata": {
  "kernelspec": {
   "display_name": "python-3.9.12",
   "language": "python",
   "name": "python3"
  },
  "language_info": {
   "codemirror_mode": {
    "name": "ipython",
    "version": 3
   },
   "file_extension": ".py",
   "mimetype": "text/x-python",
   "name": "python",
   "nbconvert_exporter": "python",
   "pygments_lexer": "ipython3",
   "version": "3.9.12"
  },
  "orig_nbformat": 4
 },
 "nbformat": 4,
 "nbformat_minor": 2
}
