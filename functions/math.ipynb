{
 "cells": [
  {
   "cell_type": "code",
   "execution_count": 2,
   "metadata": {},
   "outputs": [],
   "source": [
    "import openai\n",
    "from latex2sympy2 import latex2sympy\n",
    "\n",
    "model = \"gpt-3.5-turbo-0613\"\n",
    "\n",
    "def calc_latex_math_expression(expression):\n",
    "    sympy_expr = latex2sympy(expression)\n",
    "    result = sympy_expr.doit()\n",
    "    return str(result)\n",
    "\n",
    "functions = [\n",
    "     {\n",
    "      \"name\": \"calc_latex_math_expression\",\n",
    "      \"description\": \"Calculate a Latex mathematical expression\",\n",
    "      \"parameters\": {\n",
    "        \"type\": \"object\",\n",
    "        \"properties\": {\n",
    "          \"expression\": {\n",
    "            \"type\": \"string\",\n",
    "            \"description\": \"The Latex expression to calculate\"\n",
    "          },\n",
    "        },\n",
    "        \"required\": [\"expression\"]\n",
    "      }\n",
    "    } \n",
    "  ]\n",
    "\n",
    "messages = [\n",
    "    {\"role\": \"user\", \"content\": \"If I am 42 years old and my brother is 3 years younger than me, how old is my brother? Explain step by step.\"},\n",
    "    ]"
   ]
  },
  {
   "cell_type": "code",
   "execution_count": 5,
   "metadata": {},
   "outputs": [
    {
     "data": {
      "text/plain": [
       "<OpenAIObject chat.completion id=chatcmpl-7URGEx0Qa1g0HOJWjlHi5UtGBZi4g at 0x117ace770> JSON: {\n",
       "  \"id\": \"chatcmpl-7URGEx0Qa1g0HOJWjlHi5UtGBZi4g\",\n",
       "  \"object\": \"chat.completion\",\n",
       "  \"created\": 1687488986,\n",
       "  \"model\": \"gpt-3.5-turbo-0613\",\n",
       "  \"choices\": [\n",
       "    {\n",
       "      \"index\": 0,\n",
       "      \"message\": {\n",
       "        \"role\": \"assistant\",\n",
       "        \"content\": null,\n",
       "        \"function_call\": {\n",
       "          \"name\": \"calc_latex_math_expression\",\n",
       "          \"arguments\": \"{\\n  \\\"expression\\\": \\\"42 - 3\\\"\\n}\"\n",
       "        }\n",
       "      },\n",
       "      \"finish_reason\": \"function_call\"\n",
       "    }\n",
       "  ],\n",
       "  \"usage\": {\n",
       "    \"prompt_tokens\": 86,\n",
       "    \"completion_tokens\": 21,\n",
       "    \"total_tokens\": 107\n",
       "  }\n",
       "}"
      ]
     },
     "execution_count": 5,
     "metadata": {},
     "output_type": "execute_result"
    }
   ],
   "source": [
    "\n",
    "openai.ChatCompletion.create(\n",
    "  model=model,\n",
    "  messages=messages,\n",
    "  functions=functions\n",
    ")"
   ]
  },
  {
   "cell_type": "code",
   "execution_count": 6,
   "metadata": {},
   "outputs": [
    {
     "data": {
      "text/plain": [
       "'40'"
      ]
     },
     "execution_count": 6,
     "metadata": {},
     "output_type": "execute_result"
    }
   ],
   "source": [
    "calc_latex_math_expression(expression=\"42 - 3\")"
   ]
  },
  {
   "cell_type": "code",
   "execution_count": 7,
   "metadata": {},
   "outputs": [
    {
     "data": {
      "text/plain": [
       "<OpenAIObject chat.completion id=chatcmpl-7URI1GQzh1Kz0EPXKmhsNUvMCiSqW at 0x12e9218b0> JSON: {\n",
       "  \"id\": \"chatcmpl-7URI1GQzh1Kz0EPXKmhsNUvMCiSqW\",\n",
       "  \"object\": \"chat.completion\",\n",
       "  \"created\": 1687489097,\n",
       "  \"model\": \"gpt-3.5-turbo-0613\",\n",
       "  \"choices\": [\n",
       "    {\n",
       "      \"index\": 0,\n",
       "      \"message\": {\n",
       "        \"role\": \"assistant\",\n",
       "        \"content\": \"If you are 42 years old and your brother is 3 years younger than you, we can calculate your brother's age by subtracting 3 from your age. \\n\\nStep 1: 42 - 3 = 39\\n\\nTherefore, your brother is 39 years old.\"\n",
       "      },\n",
       "      \"finish_reason\": \"stop\"\n",
       "    }\n",
       "  ],\n",
       "  \"usage\": {\n",
       "    \"prompt_tokens\": 117,\n",
       "    \"completion_tokens\": 59,\n",
       "    \"total_tokens\": 176\n",
       "  }\n",
       "}"
      ]
     },
     "execution_count": 7,
     "metadata": {},
     "output_type": "execute_result"
    }
   ],
   "source": [
    "messages.extend([\n",
    "        {\"role\": \"assistant\", \"content\": None, \"function_call\": {\"name\": \"calc_latex_math_expression\", \"arguments\": \"{ \\\"expression\\\": \\\"42 - 3\\\"}\" } },\n",
    "        {\"role\": \"function\", \"name\": \"calc_latex_math_expression\", \"content\": \"39\"}\n",
    "])\n",
    "\n",
    "openai.ChatCompletion.create(\n",
    "  model=model,\n",
    "  messages=messages,\n",
    "  functions=functions\n",
    ")"
   ]
  },
  {
   "cell_type": "code",
   "execution_count": null,
   "metadata": {},
   "outputs": [],
   "source": []
  }
 ],
 "metadata": {
  "kernelspec": {
   "display_name": "python-3.9.12",
   "language": "python",
   "name": "python3"
  },
  "language_info": {
   "codemirror_mode": {
    "name": "ipython",
    "version": 3
   },
   "file_extension": ".py",
   "mimetype": "text/x-python",
   "name": "python",
   "nbconvert_exporter": "python",
   "pygments_lexer": "ipython3",
   "version": "3.9.12"
  },
  "orig_nbformat": 4
 },
 "nbformat": 4,
 "nbformat_minor": 2
}
