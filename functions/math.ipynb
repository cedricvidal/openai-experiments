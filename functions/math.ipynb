{
 "cells": [
  {
   "cell_type": "code",
   "execution_count": 45,
   "metadata": {},
   "outputs": [],
   "source": [
    "import openai\n",
    "from latex2sympy2 import latex2sympy\n",
    "import json\n",
    "\n",
    "#model = \"gpt-3.5-turbo-0613\"\n",
    "model = \"gpt-4-0613\"\n",
    "\n",
    "def calc_latex_math_expression(expression):\n",
    "    sympy_expr = latex2sympy(expression)\n",
    "    result = sympy_expr.doit()\n",
    "    return str(result)\n",
    "\n",
    "functions = [\n",
    "     {\n",
    "      \"name\": \"calc_latex_math_expression\",\n",
    "      \"description\": \"Calculate a Latex mathematical expression\",\n",
    "      \"parameters\": {\n",
    "        \"type\": \"object\",\n",
    "        \"properties\": {\n",
    "          \"expression\": {\n",
    "            \"type\": \"string\",\n",
    "            \"description\": \"The Latex expression to calculate\"\n",
    "          },\n",
    "        },\n",
    "        \"required\": [\"expression\"]\n",
    "      }\n",
    "    } \n",
    "  ]\n",
    "\n",
    "available_functions = {\n",
    "    \"calc_latex_math_expression\": calc_latex_math_expression,\n",
    "}"
   ]
  },
  {
   "cell_type": "code",
   "execution_count": 46,
   "metadata": {},
   "outputs": [],
   "source": [
    "def run_conversation(content):\n",
    "  messages = [\n",
    "    {\"role\": \"user\", \"content\": content},\n",
    "    ]\n",
    "  # Step 1: send the conversation and available functions to GPT\n",
    "  response = openai.ChatCompletion.create(\n",
    "    model=model,\n",
    "    messages=messages,\n",
    "    functions=functions\n",
    "  )\n",
    "  response_message = response[\"choices\"][0][\"message\"]\n",
    "  messages.append(response_message)  # extend conversation with assistant's reply\n",
    "\n",
    "  # Step 2: check if GPT wanted to call a function\n",
    "  while response_message.get(\"function_call\"):\n",
    "    # Step 3: call the function\n",
    "    # Note: the JSON response may not always be valid; be sure to handle errors\n",
    "    function_name = response_message[\"function_call\"][\"name\"]\n",
    "    function_to_call = available_functions[function_name]\n",
    "    function_args = json.loads(response_message[\"function_call\"][\"arguments\"])\n",
    "    function_response = function_to_call(\n",
    "        expression=function_args.get(\"expression\"),\n",
    "    )\n",
    "\n",
    "    # Step 4: send the info on the function call and function response to GPT\n",
    "    messages.append(\n",
    "        {\n",
    "            \"role\": \"function\",\n",
    "            \"name\": function_name,\n",
    "            \"content\": function_response,\n",
    "        }\n",
    "    )  # extend conversation with function response\n",
    "    response = openai.ChatCompletion.create(\n",
    "        model=model,\n",
    "        messages=messages,\n",
    "    )  # get a new response from GPT where it can see the function response\n",
    "    response_message = response[\"choices\"][0][\"message\"]\n",
    "    messages.append(response_message)  # extend conversation with assistant's reply\n",
    "\n",
    "  for message in messages:\n",
    "    print(message[\"role\"] + \": \" + message[\"content\"])\n",
    "    if message.get(\"function_call\"):\n",
    "      print(\" -> calling function \" + message[\"function_call\"][\"name\"] + \" with arguments \" + json.dumps(message[\"function_call\"][\"arguments\"]))\n",
    "  "
   ]
  },
  {
   "cell_type": "code",
   "execution_count": 47,
   "metadata": {},
   "outputs": [
    {
     "name": "stdout",
     "output_type": "stream",
     "text": [
      "user: If I am 42 years old and my brother is 3 years younger than me, how old is my brother? Explain step by step.\n",
      "assistant: To calculate your brother's age, we subtract your brother's age difference from your age. This can be represented as a mathematical expression in Latex form as \"42 - 3\", where 42 is your age and 3 indicates how many years your brother is younger than you.\n",
      "\n",
      "Let's perform this calculation.\n",
      " -> calling function calc_latex_math_expression with arguments \"{\\n  \\\"expression\\\": \\\"42 - 3\\\"\\n}\"\n",
      "function: 39\n",
      "assistant: After performing the subtraction operation (42 - 3), the result is 39, and therefore, your brother is 39 years old.\n"
     ]
    }
   ],
   "source": [
    "run_conversation(\"If I am 42 years old and my brother is 3 years younger than me, how old is my brother? Explain step by step.\")"
   ]
  }
 ],
 "metadata": {
  "kernelspec": {
   "display_name": "python-3.9.12",
   "language": "python",
   "name": "python3"
  },
  "language_info": {
   "codemirror_mode": {
    "name": "ipython",
    "version": 3
   },
   "file_extension": ".py",
   "mimetype": "text/x-python",
   "name": "python",
   "nbconvert_exporter": "python",
   "pygments_lexer": "ipython3",
   "version": "3.9.12"
  },
  "orig_nbformat": 4
 },
 "nbformat": 4,
 "nbformat_minor": 2
}
