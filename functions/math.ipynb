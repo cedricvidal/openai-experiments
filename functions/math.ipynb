{
 "cells": [
  {
   "attachments": {},
   "cell_type": "markdown",
   "metadata": {},
   "source": [
    "# Symbolic Math with SymPy function call example\n",
    "\n",
    "Demonstrates how to delegate to [SymPy](https://www.sympy.org/en/index.html) to perform symbolic math. We use LaTeX to represent the math expressions and the [latex2sympy2](https://pypi.org/project/latex2sympy2/) to convert the LaTeX to SymPy expressions."
   ]
  },
  {
   "cell_type": "code",
   "execution_count": 1,
   "metadata": {},
   "outputs": [],
   "source": [
    "import openai\n",
    "from latex2sympy2 import latex2sympy\n",
    "import json\n",
    "\n",
    "#model = \"gpt-3.5-turbo-0613\"\n",
    "model = \"gpt-4-0613\"\n",
    "\n",
    "def calc_latex_math_expression(expression):\n",
    "    sympy_expr = latex2sympy(expression)\n",
    "    result = sympy_expr.doit()\n",
    "    return str(result)\n",
    "\n",
    "functions = [\n",
    "     {\n",
    "      \"name\": \"calc_latex_math_expression\",\n",
    "      \"description\": \"Calculate a Latex mathematical expression\",\n",
    "      \"parameters\": {\n",
    "        \"type\": \"object\",\n",
    "        \"properties\": {\n",
    "          \"expression\": {\n",
    "            \"type\": \"string\",\n",
    "            \"description\": \"The Latex expression to calculate\"\n",
    "          },\n",
    "        },\n",
    "        \"required\": [\"expression\"]\n",
    "      }\n",
    "    } \n",
    "  ]\n",
    "\n",
    "available_functions = {\n",
    "    \"calc_latex_math_expression\": calc_latex_math_expression,\n",
    "}"
   ]
  },
  {
   "cell_type": "code",
   "execution_count": 2,
   "metadata": {},
   "outputs": [],
   "source": [
    "def run_conversation(content):\n",
    "  messages = [\n",
    "    {\"role\": \"user\", \"content\": content},\n",
    "    ]\n",
    "  # Step 1: send the conversation and available functions to GPT\n",
    "  response = openai.ChatCompletion.create(\n",
    "    model=model,\n",
    "    messages=messages,\n",
    "    functions=functions\n",
    "  )\n",
    "  response_message = response[\"choices\"][0][\"message\"]\n",
    "  messages.append(response_message)  # extend conversation with assistant's reply\n",
    "\n",
    "  # Step 2: check if GPT wanted to call a function\n",
    "  while response_message.get(\"function_call\"):\n",
    "    # Step 3: call the function\n",
    "    # Note: the JSON response may not always be valid; be sure to handle errors\n",
    "    function_name = response_message[\"function_call\"][\"name\"]\n",
    "    function_to_call = available_functions[function_name]\n",
    "    function_args = json.loads(response_message[\"function_call\"][\"arguments\"])\n",
    "    function_response = function_to_call(**function_args)\n",
    "\n",
    "    # Step 4: send the info on the function call and function response to GPT\n",
    "    messages.append(\n",
    "        {\n",
    "            \"role\": \"function\",\n",
    "            \"name\": function_name,\n",
    "            \"content\": function_response,\n",
    "        }\n",
    "    )  # extend conversation with function response\n",
    "    response = openai.ChatCompletion.create(\n",
    "        model=model,\n",
    "        messages=messages,\n",
    "    )  # get a new response from GPT where it can see the function response\n",
    "    response_message = response[\"choices\"][0][\"message\"]\n",
    "    messages.append(response_message)  # extend conversation with assistant's reply\n",
    "\n",
    "  for message in messages:\n",
    "    if message.get(\"content\"):\n",
    "      print(message[\"role\"] + \": \" + message[\"content\"])\n",
    "    if message.get(\"function_call\"):\n",
    "      print(\" -> calling function \" + message[\"function_call\"][\"name\"] + \" with arguments \" + json.dumps(message[\"function_call\"][\"arguments\"]))\n",
    "  "
   ]
  },
  {
   "cell_type": "code",
   "execution_count": 3,
   "metadata": {},
   "outputs": [
    {
     "name": "stdout",
     "output_type": "stream",
     "text": [
      "user: If I am 42 years old and my brother is 3 years younger than me, how old is my brother? Explain step by step.\n",
      "assistant: Sure, let's solve this step by step:\n",
      "\n",
      "1. Express the situation mathematically: You're 42 years old, and your brother is 3 years younger than you. This can be represented with the equation: Your age - 3 = Your brother's age.\n",
      "\n",
      "2. In this equation, your age is given as 42, so we substitute it in: 42 - 3 = Your brother's age.\n",
      "\n",
      "3. To find out your brother's age, we calculate the expression 42 - 3.\n",
      "\n",
      "Let's perform the calculation using a function.\n",
      " -> calling function calc_latex_math_expression with arguments \"{\\n\\\"expression\\\": \\\"42 - 3\\\"\\n}\"\n",
      "function: 39\n",
      "assistant: 4. So, the result of 42 - 3 is 39.\n",
      "\n",
      "Therefore, if you're 42 years old and your brother is 3 years younger than you, your brother is 39 years old.\n"
     ]
    }
   ],
   "source": [
    "run_conversation(\"If I am 42 years old and my brother is 3 years younger than me, how old is my brother? Explain step by step.\")"
   ]
  },
  {
   "cell_type": "code",
   "execution_count": 4,
   "metadata": {},
   "outputs": [
    {
     "name": "stdout",
     "output_type": "stream",
     "text": [
      "user: If a circle has a radius of 3 cm, what is its symbolic area? Explain step by step.\n",
      "assistant: The area of a circle is given by the formula:\n",
      "\n",
      "A = πr²\n",
      "\n",
      "where:\n",
      "- A is the area of the circle\n",
      "- r is the radius of the circle\n",
      "- π (Pi) is a constant approximately equal to 3.14159\n",
      "\n",
      "In this case, the radius (r) is given as 3 cm. So, we plug that into our equation, we get the symbolic area of the circle as:\n",
      "\n",
      "A = π(3cm)²\n",
      "\n",
      "This is the symbolic representation of the area of the circle. It means we are squaring the radius (which is 3 cm) and then multiplying the result by Pi to get the area.\n",
      "\n",
      "The calculation could proceed as follows: \n",
      "\n",
      "(3cm)² = 9 cm² (because 3 cm * 3 cm = 9 cm²), \n",
      "\n",
      "and then π(9 cm²) would give us the exact area in cm². \n",
      "\n",
      "To get the numerical result of the computation according to the Pi value, we can calculate this.\n",
      " -> calling function calc_latex_math_expression with arguments \"{\\n\\\"expression\\\": \\\"\\\\\\\\pi * 3^2\\\"\\n}\"\n",
      "function: 9*pi\n",
      "assistant: The exact symbolic area of the circle is therefore 9π square cm.\n"
     ]
    }
   ],
   "source": [
    "run_conversation(\"If a circle has a radius of 3 cm, what is its symbolic area? Explain step by step.\")"
   ]
  },
  {
   "cell_type": "code",
   "execution_count": 5,
   "metadata": {},
   "outputs": [
    {
     "name": "stdout",
     "output_type": "stream",
     "text": [
      "user: If a sphere has a radius of 3 cm, what is its volume? Explain step by step.\n",
      "assistant: The formula to calculate the volume of a sphere is:\n",
      "\n",
      "V = 4/3 * π * r³\n",
      "\n",
      "Where V is the volume, r is the radius of the sphere, and π is approximately 3.14159.\n",
      "\n",
      "Since the problem states the radius is 3 cm, we simply insert 3 cm into the formula in place of r:\n",
      "\n",
      "V = 4/3 * π * (3 cm)³\n",
      "\n",
      "I will do the calculation now.\n",
      " -> calling function calc_latex_math_expression with arguments \"{\\n  \\\"expression\\\": \\\"4/3 * 3.14159 * 3^3\\\"\\n}\"\n",
      "function: 2827431/25000\n",
      "assistant: So the volume of the sphere with a radius of 3 cm is 113.097 cm³.\n"
     ]
    }
   ],
   "source": [
    "run_conversation(\"If a sphere has a radius of 3 cm, what is its volume? Explain step by step.\")"
   ]
  },
  {
   "cell_type": "code",
   "execution_count": null,
   "metadata": {},
   "outputs": [],
   "source": []
  }
 ],
 "metadata": {
  "kernelspec": {
   "display_name": "python-3.9.12",
   "language": "python",
   "name": "python3"
  },
  "language_info": {
   "codemirror_mode": {
    "name": "ipython",
    "version": 3
   },
   "file_extension": ".py",
   "mimetype": "text/x-python",
   "name": "python",
   "nbconvert_exporter": "python",
   "pygments_lexer": "ipython3",
   "version": "3.9.12"
  },
  "orig_nbformat": 4
 },
 "nbformat": 4,
 "nbformat_minor": 2
}
