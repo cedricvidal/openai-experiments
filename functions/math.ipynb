{
 "cells": [
  {
   "cell_type": "code",
   "execution_count": 10,
   "metadata": {},
   "outputs": [],
   "source": [
    "import openai\n",
    "from latex2sympy2 import latex2sympy\n",
    "import json\n",
    "\n",
    "#model = \"gpt-3.5-turbo-0613\"\n",
    "model = \"gpt-4-0613\"\n",
    "\n",
    "def calc_latex_math_expression(expression):\n",
    "    sympy_expr = latex2sympy(expression)\n",
    "    result = sympy_expr.doit()\n",
    "    return str(result)\n",
    "\n",
    "functions = [\n",
    "     {\n",
    "      \"name\": \"calc_latex_math_expression\",\n",
    "      \"description\": \"Calculate a Latex mathematical expression\",\n",
    "      \"parameters\": {\n",
    "        \"type\": \"object\",\n",
    "        \"properties\": {\n",
    "          \"expression\": {\n",
    "            \"type\": \"string\",\n",
    "            \"description\": \"The Latex expression to calculate\"\n",
    "          },\n",
    "        },\n",
    "        \"required\": [\"expression\"]\n",
    "      }\n",
    "    } \n",
    "  ]\n",
    "\n",
    "available_functions = {\n",
    "    \"calc_latex_math_expression\": calc_latex_math_expression,\n",
    "}\n",
    "\n",
    "messages = [\n",
    "    {\"role\": \"user\", \"content\": \"If I am 42 years old and my brother is 3 years younger than me, how old is my brother? Explain step by step.\"},\n",
    "    ]"
   ]
  },
  {
   "cell_type": "code",
   "execution_count": 7,
   "metadata": {},
   "outputs": [],
   "source": [
    "def run_conversation(messages):\n",
    "  # Step 1: send the conversation and available functions to GPT\n",
    "  response = openai.ChatCompletion.create(\n",
    "    model=model,\n",
    "    messages=messages,\n",
    "    functions=functions\n",
    "  )\n",
    "  response_message = response[\"choices\"][0][\"message\"]\n",
    "  print(response_message)\n",
    "\n",
    "  # Step 2: check if GPT wanted to call a function\n",
    "  if response_message.get(\"function_call\"):\n",
    "    # Step 3: call the function\n",
    "    # Note: the JSON response may not always be valid; be sure to handle errors\n",
    "    function_name = response_message[\"function_call\"][\"name\"]\n",
    "    function_to_call = available_functions[function_name]\n",
    "    function_args = json.loads(response_message[\"function_call\"][\"arguments\"])\n",
    "    function_response = function_to_call(\n",
    "        expression=function_args.get(\"expression\"),\n",
    "    )\n",
    "\n",
    "    # Step 4: send the info on the function call and function response to GPT\n",
    "    messages.append(response_message)  # extend conversation with assistant's reply\n",
    "    messages.append(\n",
    "        {\n",
    "            \"role\": \"function\",\n",
    "            \"name\": function_name,\n",
    "            \"content\": function_response,\n",
    "        }\n",
    "    )  # extend conversation with function response\n",
    "    second_response = openai.ChatCompletion.create(\n",
    "        model=\"gpt-3.5-turbo-0613\",\n",
    "        messages=messages,\n",
    "    )  # get a new response from GPT where it can see the function response\n",
    "    return second_response"
   ]
  },
  {
   "cell_type": "code",
   "execution_count": 8,
   "metadata": {},
   "outputs": [],
   "source": [
    "run_conversation(messages)"
   ]
  },
  {
   "cell_type": "code",
   "execution_count": 3,
   "metadata": {},
   "outputs": [
    {
     "data": {
      "text/plain": [
       "'39'"
      ]
     },
     "execution_count": 3,
     "metadata": {},
     "output_type": "execute_result"
    }
   ],
   "source": [
    "calc_latex_math_expression(expression=\"42 - 3\")"
   ]
  },
  {
   "cell_type": "code",
   "execution_count": null,
   "metadata": {},
   "outputs": [],
   "source": []
  }
 ],
 "metadata": {
  "kernelspec": {
   "display_name": "python-3.9.12",
   "language": "python",
   "name": "python3"
  },
  "language_info": {
   "codemirror_mode": {
    "name": "ipython",
    "version": 3
   },
   "file_extension": ".py",
   "mimetype": "text/x-python",
   "name": "python",
   "nbconvert_exporter": "python",
   "pygments_lexer": "ipython3",
   "version": "3.9.12"
  },
  "orig_nbformat": 4
 },
 "nbformat": 4,
 "nbformat_minor": 2
}
